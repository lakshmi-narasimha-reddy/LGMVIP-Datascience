{
 "cells": [
  {
   "cell_type": "markdown",
   "id": "27834f25",
   "metadata": {},
   "source": [
    "# Task- Image to Pencil Sketch"
   ]
  },
  {
   "cell_type": "code",
   "execution_count": null,
   "id": "a4d2fc61",
   "metadata": {},
   "outputs": [
    {
     "name": "stdout",
     "output_type": "stream",
     "text": [
      "Requirement already satisfied: opencv-python in /Users/satwikagundawar/anaconda3/lib/python3.11/site-packages (4.8.1.78)\r\n"
     ]
    }
   ],
   "source": [
    "pip install opencv-python"
   ]
  },
  {
   "cell_type": "code",
   "execution_count": null,
   "id": "fe9c8d1a",
   "metadata": {},
   "outputs": [],
   "source": [
    "#importing required libraries\n",
    "import cv2 \n",
    "from matplotlib import pyplot as plt"
   ]
  },
  {
   "cell_type": "code",
   "execution_count": null,
   "id": "dea29fc5",
   "metadata": {},
   "outputs": [],
   "source": [
    "img=cv2.imread('img.jpeg',0)#reading in greyscale format"
   ]
  },
  {
   "cell_type": "code",
   "execution_count": null,
   "id": "5bf90332",
   "metadata": {},
   "outputs": [],
   "source": [
    "plt.imshow(img,cmap='gray')"
   ]
  },
  {
   "cell_type": "code",
   "execution_count": null,
   "id": "ff07749a",
   "metadata": {},
   "outputs": [],
   "source": [
    "#inverting the image(we can do 255-img) i.e all the white is converted to black\n",
    "inv=255-img\n",
    "plt.imshow(inv,cmap='gray')"
   ]
  },
  {
   "cell_type": "code",
   "execution_count": null,
   "id": "95b0e02f",
   "metadata": {},
   "outputs": [],
   "source": [
    "#now we have to apply Guassian blur- to remove detailed information and noice from the image(Smoothing the image)\n",
    "blur=cv2.GaussianBlur(inv,ksize=(21,21),sigmaX=0,sigmaY=0)"
   ]
  },
  {
   "cell_type": "code",
   "execution_count": null,
   "id": "e75f1185",
   "metadata": {},
   "outputs": [],
   "source": [
    "plt.imshow(blur,cmap='gray')"
   ]
  },
  {
   "cell_type": "code",
   "execution_count": null,
   "id": "5beb7555",
   "metadata": {},
   "outputs": [],
   "source": [
    "#dodging and burning technique\n",
    "#this is used to manipulate the exposure of selected area\n",
    "dodge=lambda image,mask:cv2.divide(image,255-mask,scale=256)"
   ]
  },
  {
   "cell_type": "code",
   "execution_count": null,
   "id": "35224723",
   "metadata": {},
   "outputs": [],
   "source": [
    "#Blending smoothen image and grayscale image\n",
    "blen = dodge(img,blur)\n",
    "plt.imshow(blen,cmap='gray')"
   ]
  },
  {
   "cell_type": "code",
   "execution_count": null,
   "id": "2b6a5fd4",
   "metadata": {},
   "outputs": [],
   "source": [
    "#to save the image use\n",
    "cv2.imwrite('imgpencil.jpg',blen)"
   ]
  },
  {
   "cell_type": "code",
   "execution_count": null,
   "id": "015e5bfc",
   "metadata": {},
   "outputs": [],
   "source": []
  }
 ],
 "metadata": {
  "kernelspec": {
   "display_name": "Python 3 (ipykernel)",
   "language": "python",
   "name": "python3"
  },
  "language_info": {
   "codemirror_mode": {
    "name": "ipython",
    "version": 3
   },
   "file_extension": ".py",
   "mimetype": "text/x-python",
   "name": "python",
   "nbconvert_exporter": "python",
   "pygments_lexer": "ipython3",
   "version": "3.11.4"
  }
 },
 "nbformat": 4,
 "nbformat_minor": 5
}
