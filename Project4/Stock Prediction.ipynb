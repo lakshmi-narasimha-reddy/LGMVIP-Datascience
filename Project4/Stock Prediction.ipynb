{
 "cells": [
  {
   "cell_type": "markdown",
   "id": "d53f0e71",
   "metadata": {},
   "source": [
    "# Task: Stock Market Prediction (LGMVIP)"
   ]
  },
  {
   "cell_type": "code",
   "execution_count": 1,
   "id": "8eb4036b",
   "metadata": {},
   "outputs": [],
   "source": [
    "#importing required libraries\n",
    "import pandas as pd\n",
    "import numpy as np"
   ]
  },
  {
   "cell_type": "code",
   "execution_count": 2,
   "id": "cf613bc6",
   "metadata": {},
   "outputs": [
    {
     "data": {
      "text/html": [
       "<div>\n",
       "<style scoped>\n",
       "    .dataframe tbody tr th:only-of-type {\n",
       "        vertical-align: middle;\n",
       "    }\n",
       "\n",
       "    .dataframe tbody tr th {\n",
       "        vertical-align: top;\n",
       "    }\n",
       "\n",
       "    .dataframe thead th {\n",
       "        text-align: right;\n",
       "    }\n",
       "</style>\n",
       "<table border=\"1\" class=\"dataframe\">\n",
       "  <thead>\n",
       "    <tr style=\"text-align: right;\">\n",
       "      <th></th>\n",
       "      <th>Date</th>\n",
       "      <th>Open</th>\n",
       "      <th>High</th>\n",
       "      <th>Low</th>\n",
       "      <th>Last</th>\n",
       "      <th>Close</th>\n",
       "      <th>Total Trade Quantity</th>\n",
       "      <th>Turnover (Lacs)</th>\n",
       "    </tr>\n",
       "  </thead>\n",
       "  <tbody>\n",
       "    <tr>\n",
       "      <th>0</th>\n",
       "      <td>2018-09-28</td>\n",
       "      <td>234.05</td>\n",
       "      <td>235.95</td>\n",
       "      <td>230.20</td>\n",
       "      <td>233.50</td>\n",
       "      <td>233.75</td>\n",
       "      <td>3069914</td>\n",
       "      <td>7162.35</td>\n",
       "    </tr>\n",
       "    <tr>\n",
       "      <th>1</th>\n",
       "      <td>2018-09-27</td>\n",
       "      <td>234.55</td>\n",
       "      <td>236.80</td>\n",
       "      <td>231.10</td>\n",
       "      <td>233.80</td>\n",
       "      <td>233.25</td>\n",
       "      <td>5082859</td>\n",
       "      <td>11859.95</td>\n",
       "    </tr>\n",
       "    <tr>\n",
       "      <th>2</th>\n",
       "      <td>2018-09-26</td>\n",
       "      <td>240.00</td>\n",
       "      <td>240.00</td>\n",
       "      <td>232.50</td>\n",
       "      <td>235.00</td>\n",
       "      <td>234.25</td>\n",
       "      <td>2240909</td>\n",
       "      <td>5248.60</td>\n",
       "    </tr>\n",
       "    <tr>\n",
       "      <th>3</th>\n",
       "      <td>2018-09-25</td>\n",
       "      <td>233.30</td>\n",
       "      <td>236.75</td>\n",
       "      <td>232.00</td>\n",
       "      <td>236.25</td>\n",
       "      <td>236.10</td>\n",
       "      <td>2349368</td>\n",
       "      <td>5503.90</td>\n",
       "    </tr>\n",
       "    <tr>\n",
       "      <th>4</th>\n",
       "      <td>2018-09-24</td>\n",
       "      <td>233.55</td>\n",
       "      <td>239.20</td>\n",
       "      <td>230.75</td>\n",
       "      <td>234.00</td>\n",
       "      <td>233.30</td>\n",
       "      <td>3423509</td>\n",
       "      <td>7999.55</td>\n",
       "    </tr>\n",
       "  </tbody>\n",
       "</table>\n",
       "</div>"
      ],
      "text/plain": [
       "         Date    Open    High     Low    Last   Close  Total Trade Quantity  \\\n",
       "0  2018-09-28  234.05  235.95  230.20  233.50  233.75               3069914   \n",
       "1  2018-09-27  234.55  236.80  231.10  233.80  233.25               5082859   \n",
       "2  2018-09-26  240.00  240.00  232.50  235.00  234.25               2240909   \n",
       "3  2018-09-25  233.30  236.75  232.00  236.25  236.10               2349368   \n",
       "4  2018-09-24  233.55  239.20  230.75  234.00  233.30               3423509   \n",
       "\n",
       "   Turnover (Lacs)  \n",
       "0          7162.35  \n",
       "1         11859.95  \n",
       "2          5248.60  \n",
       "3          5503.90  \n",
       "4          7999.55  "
      ]
     },
     "execution_count": 2,
     "metadata": {},
     "output_type": "execute_result"
    }
   ],
   "source": [
    "df=pd.read_csv('stock.csv')\n",
    "df.head()"
   ]
  },
  {
   "cell_type": "code",
   "execution_count": 3,
   "id": "f0317ca8",
   "metadata": {},
   "outputs": [
    {
     "data": {
      "text/html": [
       "<div>\n",
       "<style scoped>\n",
       "    .dataframe tbody tr th:only-of-type {\n",
       "        vertical-align: middle;\n",
       "    }\n",
       "\n",
       "    .dataframe tbody tr th {\n",
       "        vertical-align: top;\n",
       "    }\n",
       "\n",
       "    .dataframe thead th {\n",
       "        text-align: right;\n",
       "    }\n",
       "</style>\n",
       "<table border=\"1\" class=\"dataframe\">\n",
       "  <thead>\n",
       "    <tr style=\"text-align: right;\">\n",
       "      <th></th>\n",
       "      <th>Date</th>\n",
       "      <th>Open</th>\n",
       "      <th>High</th>\n",
       "      <th>Low</th>\n",
       "      <th>Last</th>\n",
       "      <th>Close</th>\n",
       "      <th>Total Trade Quantity</th>\n",
       "      <th>Turnover (Lacs)</th>\n",
       "    </tr>\n",
       "  </thead>\n",
       "  <tbody>\n",
       "    <tr>\n",
       "      <th>2030</th>\n",
       "      <td>2010-07-27</td>\n",
       "      <td>117.6</td>\n",
       "      <td>119.50</td>\n",
       "      <td>112.00</td>\n",
       "      <td>118.80</td>\n",
       "      <td>118.65</td>\n",
       "      <td>586100</td>\n",
       "      <td>694.98</td>\n",
       "    </tr>\n",
       "    <tr>\n",
       "      <th>2031</th>\n",
       "      <td>2010-07-26</td>\n",
       "      <td>120.1</td>\n",
       "      <td>121.00</td>\n",
       "      <td>117.10</td>\n",
       "      <td>117.10</td>\n",
       "      <td>117.60</td>\n",
       "      <td>658440</td>\n",
       "      <td>780.01</td>\n",
       "    </tr>\n",
       "    <tr>\n",
       "      <th>2032</th>\n",
       "      <td>2010-07-23</td>\n",
       "      <td>121.8</td>\n",
       "      <td>121.95</td>\n",
       "      <td>120.25</td>\n",
       "      <td>120.35</td>\n",
       "      <td>120.65</td>\n",
       "      <td>281312</td>\n",
       "      <td>340.31</td>\n",
       "    </tr>\n",
       "    <tr>\n",
       "      <th>2033</th>\n",
       "      <td>2010-07-22</td>\n",
       "      <td>120.3</td>\n",
       "      <td>122.00</td>\n",
       "      <td>120.25</td>\n",
       "      <td>120.75</td>\n",
       "      <td>120.90</td>\n",
       "      <td>293312</td>\n",
       "      <td>355.17</td>\n",
       "    </tr>\n",
       "    <tr>\n",
       "      <th>2034</th>\n",
       "      <td>2010-07-21</td>\n",
       "      <td>122.1</td>\n",
       "      <td>123.00</td>\n",
       "      <td>121.05</td>\n",
       "      <td>121.10</td>\n",
       "      <td>121.55</td>\n",
       "      <td>658666</td>\n",
       "      <td>803.56</td>\n",
       "    </tr>\n",
       "  </tbody>\n",
       "</table>\n",
       "</div>"
      ],
      "text/plain": [
       "            Date   Open    High     Low    Last   Close  Total Trade Quantity  \\\n",
       "2030  2010-07-27  117.6  119.50  112.00  118.80  118.65                586100   \n",
       "2031  2010-07-26  120.1  121.00  117.10  117.10  117.60                658440   \n",
       "2032  2010-07-23  121.8  121.95  120.25  120.35  120.65                281312   \n",
       "2033  2010-07-22  120.3  122.00  120.25  120.75  120.90                293312   \n",
       "2034  2010-07-21  122.1  123.00  121.05  121.10  121.55                658666   \n",
       "\n",
       "      Turnover (Lacs)  \n",
       "2030           694.98  \n",
       "2031           780.01  \n",
       "2032           340.31  \n",
       "2033           355.17  \n",
       "2034           803.56  "
      ]
     },
     "execution_count": 3,
     "metadata": {},
     "output_type": "execute_result"
    }
   ],
   "source": [
    "df.tail()"
   ]
  },
  {
   "cell_type": "code",
   "execution_count": 4,
   "id": "b96c3b82",
   "metadata": {},
   "outputs": [
    {
     "data": {
      "text/plain": [
       "(2035, 8)"
      ]
     },
     "execution_count": 4,
     "metadata": {},
     "output_type": "execute_result"
    }
   ],
   "source": [
    "df.shape"
   ]
  },
  {
   "cell_type": "code",
   "execution_count": 5,
   "id": "f7fac1a3",
   "metadata": {},
   "outputs": [],
   "source": [
    "df1=df.reset_index()['Close']"
   ]
  },
  {
   "cell_type": "code",
   "execution_count": 6,
   "id": "11fb57fb",
   "metadata": {},
   "outputs": [
    {
     "data": {
      "text/plain": [
       "0    233.75\n",
       "1    233.25\n",
       "2    234.25\n",
       "3    236.10\n",
       "4    233.30\n",
       "Name: Close, dtype: float64"
      ]
     },
     "execution_count": 6,
     "metadata": {},
     "output_type": "execute_result"
    }
   ],
   "source": [
    "df1.head()"
   ]
  },
  {
   "cell_type": "code",
   "execution_count": 7,
   "id": "355438b2",
   "metadata": {},
   "outputs": [
    {
     "data": {
      "text/plain": [
       "(2035,)"
      ]
     },
     "execution_count": 7,
     "metadata": {},
     "output_type": "execute_result"
    }
   ],
   "source": [
    "df1.shape"
   ]
  },
  {
   "cell_type": "code",
   "execution_count": 8,
   "id": "31cc40cb",
   "metadata": {},
   "outputs": [
    {
     "data": {
      "text/plain": [
       "[<matplotlib.lines.Line2D at 0x104494850>]"
      ]
     },
     "execution_count": 8,
     "metadata": {},
     "output_type": "execute_result"
    },
    {
     "data": {
      "image/png": "[encoded data removed]",
      "text/plain": [
       "<Figure size 640x480 with 1 Axes>"
      ]
     },
     "metadata": {},
     "output_type": "display_data"
    }
   ],
   "source": [
    "from matplotlib import pyplot as plt\n",
    "plt.plot(df1)"
   ]
  },
  {
   "cell_type": "code",
   "execution_count": 9,
   "id": "06eb69bf",
   "metadata": {},
   "outputs": [],
   "source": [
    "#we have to apply MinMax Scaler since LSTM is sensitive to the scale of data\n",
    "from sklearn.preprocessing import MinMaxScaler\n",
    "scaler=MinMaxScaler(feature_range=(0,1))\n",
    "df1=scaler.fit_transform(np.array(df1).reshape(-1,1))"
   ]
  },
  {
   "cell_type": "code",
   "execution_count": 10,
   "id": "0275db0d",
   "metadata": {},
   "outputs": [
    {
     "data": {
      "text/plain": [
       "array([[0.62418301],\n",
       "       [0.62214052],\n",
       "       [0.62622549],\n",
       "       ...,\n",
       "       [0.1621732 ],\n",
       "       [0.16319444],\n",
       "       [0.16584967]])"
      ]
     },
     "execution_count": 10,
     "metadata": {},
     "output_type": "execute_result"
    }
   ],
   "source": [
    "df1"
   ]
  },
  {
   "cell_type": "code",
   "execution_count": 11,
   "id": "6432b07a",
   "metadata": {},
   "outputs": [],
   "source": [
    "#In case of timeseries data the next data is always dependent on previous data so we cannot split randomly.\n",
    "train_size=int(len(df1)*0.65)\n",
    "test_size=len(df1)-train_size\n",
    "train,test=df1[0:train_size,:],df1[train_size:len(df1),:1]"
   ]
  },
  {
   "cell_type": "code",
   "execution_count": 12,
   "id": "72d3fb84",
   "metadata": {},
   "outputs": [
    {
     "data": {
      "text/plain": [
       "1322"
      ]
     },
     "execution_count": 12,
     "metadata": {},
     "output_type": "execute_result"
    }
   ],
   "source": [
    "len(train)"
   ]
  },
  {
   "cell_type": "code",
   "execution_count": 13,
   "id": "8bc74d5d",
   "metadata": {},
   "outputs": [
    {
     "data": {
      "text/plain": [
       "713"
      ]
     },
     "execution_count": 13,
     "metadata": {},
     "output_type": "execute_result"
    }
   ],
   "source": [
    "len(test)"
   ]
  },
  {
   "cell_type": "code",
   "execution_count": 14,
   "id": "3b499f93",
   "metadata": {},
   "outputs": [],
   "source": [
    "#Timesteps: How many previous steps are considered for predicting next value\n",
    "def create(data,time=1):\n",
    "    dataX,dataY=[],[]\n",
    "    for i in range(len(data)-time-1):\n",
    "        a=data[i:(i+time),0]\n",
    "        dataX.append(a)\n",
    "        dataY.append(data[i + time,0])\n",
    "    return np.array(dataX),np.array(dataY)"
   ]
  },
  {
   "cell_type": "code",
   "execution_count": 15,
   "id": "72c591a0",
   "metadata": {},
   "outputs": [],
   "source": [
    "time=100\n",
    "X_train,y_train=create(train,time)\n",
    "X_test,y_test=create(test,time)"
   ]
  },
  {
   "cell_type": "code",
   "execution_count": 16,
   "id": "1da7456e",
   "metadata": {},
   "outputs": [
    {
     "data": {
      "text/plain": [
       "(1221, 100)"
      ]
     },
     "execution_count": 16,
     "metadata": {},
     "output_type": "execute_result"
    }
   ],
   "source": [
    "X_train.shape"
   ]
  },
  {
   "cell_type": "code",
   "execution_count": 17,
   "id": "6b311e36",
   "metadata": {},
   "outputs": [
    {
     "data": {
      "text/plain": [
       "(1221,)"
      ]
     },
     "execution_count": 17,
     "metadata": {},
     "output_type": "execute_result"
    }
   ],
   "source": [
    "y_train.shape"
   ]
  },
  {
   "cell_type": "code",
   "execution_count": 18,
   "id": "cb12beb0",
   "metadata": {},
   "outputs": [],
   "source": [
    "#reshape the input to be [samples,timesteps,features] which is required for LSTM.\n",
    "X_train=X_train.reshape(X_train.shape[0],X_train.shape[1],1)\n",
    "X_test=X_test.reshape(X_test.shape[0],X_test.shape[1],1)"
   ]
  },
  {
   "cell_type": "code",
   "execution_count": 19,
   "id": "727d335a",
   "metadata": {},
   "outputs": [],
   "source": [
    "#Creating the LSTM model these are required libraries\n",
    "from tensorflow.keras.models import Sequential\n",
    "from tensorflow.keras.layers import Dense \n",
    "from tensorflow.keras.layers import LSTM "
   ]
  },
  {
   "cell_type": "code",
   "execution_count": 20,
   "id": "2d3c5aff",
   "metadata": {},
   "outputs": [],
   "source": [
    "model=Sequential()\n",
    "model.add(LSTM(50,return_sequences=True,input_shape=(100,1)))\n",
    "model.add(LSTM(50,return_sequences=True))\n",
    "model.add(LSTM(50))\n",
    "model.add(Dense(1))\n",
    "model.compile(loss='mean_squared_error',optimizer='adam')"
   ]
  },
  {
   "cell_type": "code",
   "execution_count": 21,
   "id": "a1ccc342",
   "metadata": {},
   "outputs": [
    {
     "name": "stdout",
     "output_type": "stream",
     "text": [
      "Model: \"sequential\"\n",
      "_________________________________________________________________\n",
      " Layer (type)                Output Shape              Param #   \n",
      "=================================================================\n",
      " lstm (LSTM)                 (None, 100, 50)           10400     \n",
      "                                                                 \n",
      " lstm_1 (LSTM)               (None, 100, 50)           20200     \n",
      "                                                                 \n",
      " lstm_2 (LSTM)               (None, 50)                20200     \n",
      "                                                                 \n",
      " dense (Dense)               (None, 1)                 51        \n",
      "                                                                 \n",
      "=================================================================\n",
      "Total params: 50851 (198.64 KB)\n",
      "Trainable params: 50851 (198.64 KB)\n",
      "Non-trainable params: 0 (0.00 Byte)\n",
      "_________________________________________________________________\n"
     ]
    }
   ],
   "source": [
    "model.summary()"
   ]
  },
  {
   "cell_type": "code",
   "execution_count": 22,
   "id": "b1806300",
   "metadata": {},
   "outputs": [
    {
     "name": "stdout",
     "output_type": "stream",
     "text": [
      "Epoch 1/100\n",
      "20/20 [==============================] - 3s 97ms/step - loss: 0.0282 - val_loss: 0.0042\n",
      "Epoch 2/100\n",
      "20/20 [==============================] - 2s 77ms/step - loss: 0.0032 - val_loss: 0.0015\n",
      "Epoch 3/100\n",
      "20/20 [==============================] - 2s 78ms/step - loss: 0.0018 - val_loss: 0.0011\n",
      "Epoch 4/100\n",
      "20/20 [==============================] - 2s 80ms/step - loss: 0.0017 - val_loss: 0.0011\n",
      "Epoch 5/100\n",
      "20/20 [==============================] - 2s 80ms/step - loss: 0.0018 - val_loss: 0.0014\n",
      "Epoch 6/100\n",
      "20/20 [==============================] - 2s 81ms/step - loss: 0.0016 - val_loss: 0.0014\n",
      "Epoch 7/100\n",
      "20/20 [==============================] - 2s 81ms/step - loss: 0.0015 - val_loss: 0.0011\n",
      "Epoch 8/100\n",
      "20/20 [==============================] - 2s 81ms/step - loss: 0.0014 - val_loss: 0.0010\n",
      "Epoch 9/100\n",
      "20/20 [==============================] - 2s 82ms/step - loss: 0.0014 - val_loss: 9.3843e-04\n",
      "Epoch 10/100\n",
      "20/20 [==============================] - 2s 82ms/step - loss: 0.0014 - val_loss: 0.0011\n",
      "Epoch 11/100\n",
      "20/20 [==============================] - 2s 83ms/step - loss: 0.0013 - val_loss: 7.3564e-04\n",
      "Epoch 12/100\n",
      "20/20 [==============================] - 2s 83ms/step - loss: 0.0015 - val_loss: 8.2531e-04\n",
      "Epoch 13/100\n",
      "20/20 [==============================] - 2s 84ms/step - loss: 0.0012 - val_loss: 8.4950e-04\n",
      "Epoch 14/100\n",
      "20/20 [==============================] - 2s 84ms/step - loss: 0.0011 - val_loss: 7.6838e-04\n",
      "Epoch 15/100\n",
      "20/20 [==============================] - 2s 85ms/step - loss: 0.0011 - val_loss: 8.0371e-04\n",
      "Epoch 16/100\n",
      "20/20 [==============================] - 2s 87ms/step - loss: 0.0011 - val_loss: 8.1565e-04\n",
      "Epoch 17/100\n",
      "20/20 [==============================] - 2s 87ms/step - loss: 0.0010 - val_loss: 0.0011\n",
      "Epoch 18/100\n",
      "20/20 [==============================] - 2s 86ms/step - loss: 9.6563e-04 - val_loss: 8.2900e-04\n",
      "Epoch 19/100\n",
      "20/20 [==============================] - 2s 89ms/step - loss: 9.3908e-04 - val_loss: 8.1593e-04\n",
      "Epoch 20/100\n",
      "20/20 [==============================] - 2s 88ms/step - loss: 8.6628e-04 - val_loss: 9.1839e-04\n",
      "Epoch 21/100\n",
      "20/20 [==============================] - 2s 88ms/step - loss: 0.0014 - val_loss: 8.7731e-04\n",
      "Epoch 22/100\n",
      "20/20 [==============================] - 2s 89ms/step - loss: 8.7881e-04 - val_loss: 8.9989e-04\n",
      "Epoch 23/100\n",
      "20/20 [==============================] - 2s 92ms/step - loss: 8.3230e-04 - val_loss: 8.5592e-04\n",
      "Epoch 24/100\n",
      "20/20 [==============================] - 2s 92ms/step - loss: 7.7810e-04 - val_loss: 8.6556e-04\n",
      "Epoch 25/100\n",
      "20/20 [==============================] - 2s 94ms/step - loss: 8.8344e-04 - val_loss: 8.6141e-04\n",
      "Epoch 26/100\n",
      "20/20 [==============================] - 2s 93ms/step - loss: 7.6891e-04 - val_loss: 6.6214e-04\n",
      "Epoch 27/100\n",
      "20/20 [==============================] - 2s 96ms/step - loss: 0.0010 - val_loss: 6.4962e-04\n",
      "Epoch 28/100\n",
      "20/20 [==============================] - 2s 94ms/step - loss: 7.8642e-04 - val_loss: 0.0012\n",
      "Epoch 29/100\n",
      "20/20 [==============================] - 2s 96ms/step - loss: 9.3468e-04 - val_loss: 0.0012\n",
      "Epoch 30/100\n",
      "20/20 [==============================] - 2s 103ms/step - loss: 7.9848e-04 - val_loss: 9.1181e-04\n",
      "Epoch 31/100\n",
      "20/20 [==============================] - 2s 100ms/step - loss: 7.6003e-04 - val_loss: 6.8229e-04\n",
      "Epoch 32/100\n",
      "20/20 [==============================] - 2s 104ms/step - loss: 7.8398e-04 - val_loss: 6.6688e-04\n",
      "Epoch 33/100\n",
      "20/20 [==============================] - 2s 101ms/step - loss: 8.3207e-04 - val_loss: 6.7161e-04\n",
      "Epoch 34/100\n",
      "20/20 [==============================] - 2s 104ms/step - loss: 6.6180e-04 - val_loss: 7.2955e-04\n",
      "Epoch 35/100\n",
      "20/20 [==============================] - 2s 103ms/step - loss: 6.7880e-04 - val_loss: 7.5467e-04\n",
      "Epoch 36/100\n",
      "20/20 [==============================] - 2s 103ms/step - loss: 7.2058e-04 - val_loss: 6.4967e-04\n",
      "Epoch 37/100\n",
      "20/20 [==============================] - 2s 107ms/step - loss: 6.2395e-04 - val_loss: 6.1241e-04\n",
      "Epoch 38/100\n",
      "20/20 [==============================] - 2s 107ms/step - loss: 6.2546e-04 - val_loss: 6.3511e-04\n",
      "Epoch 39/100\n",
      "20/20 [==============================] - 2s 106ms/step - loss: 7.0246e-04 - val_loss: 7.4727e-04\n",
      "Epoch 40/100\n",
      "20/20 [==============================] - 2s 99ms/step - loss: 5.8720e-04 - val_loss: 7.4052e-04\n",
      "Epoch 41/100\n",
      "20/20 [==============================] - 2s 104ms/step - loss: 6.5512e-04 - val_loss: 6.4498e-04\n",
      "Epoch 42/100\n",
      "20/20 [==============================] - 2s 109ms/step - loss: 5.9335e-04 - val_loss: 8.1026e-04\n",
      "Epoch 43/100\n",
      "20/20 [==============================] - 2s 109ms/step - loss: 5.7484e-04 - val_loss: 6.7530e-04\n",
      "Epoch 44/100\n",
      "20/20 [==============================] - 2s 107ms/step - loss: 5.6590e-04 - val_loss: 5.2149e-04\n",
      "Epoch 45/100\n",
      "20/20 [==============================] - 2s 109ms/step - loss: 6.4513e-04 - val_loss: 6.8913e-04\n",
      "Epoch 46/100\n",
      "20/20 [==============================] - 2s 108ms/step - loss: 5.7755e-04 - val_loss: 6.6452e-04\n",
      "Epoch 47/100\n",
      "20/20 [==============================] - 2s 112ms/step - loss: 5.7458e-04 - val_loss: 4.9764e-04\n",
      "Epoch 48/100\n",
      "20/20 [==============================] - 2s 112ms/step - loss: 5.2612e-04 - val_loss: 6.4064e-04\n",
      "Epoch 49/100\n",
      "20/20 [==============================] - 2s 116ms/step - loss: 5.6358e-04 - val_loss: 6.3321e-04\n",
      "Epoch 50/100\n",
      "20/20 [==============================] - 2s 105ms/step - loss: 5.5763e-04 - val_loss: 6.4309e-04\n",
      "Epoch 51/100\n",
      "20/20 [==============================] - 2s 97ms/step - loss: 4.9840e-04 - val_loss: 5.3101e-04\n",
      "Epoch 52/100\n",
      "20/20 [==============================] - 2s 96ms/step - loss: 5.0317e-04 - val_loss: 4.9432e-04\n",
      "Epoch 53/100\n",
      "20/20 [==============================] - 2s 99ms/step - loss: 5.0935e-04 - val_loss: 4.8826e-04\n",
      "Epoch 54/100\n",
      "20/20 [==============================] - 2s 100ms/step - loss: 5.2920e-04 - val_loss: 7.4867e-04\n",
      "Epoch 55/100\n",
      "20/20 [==============================] - 2s 101ms/step - loss: 5.7794e-04 - val_loss: 4.7761e-04\n",
      "Epoch 56/100\n",
      "20/20 [==============================] - 2s 93ms/step - loss: 4.7963e-04 - val_loss: 5.4978e-04\n",
      "Epoch 57/100\n",
      "20/20 [==============================] - 2s 103ms/step - loss: 4.5536e-04 - val_loss: 4.5943e-04\n",
      "Epoch 58/100\n",
      "20/20 [==============================] - 2s 100ms/step - loss: 4.4554e-04 - val_loss: 5.2805e-04\n",
      "Epoch 59/100\n",
      "20/20 [==============================] - 2s 103ms/step - loss: 4.3629e-04 - val_loss: 4.0915e-04\n",
      "Epoch 60/100\n",
      "20/20 [==============================] - 2s 99ms/step - loss: 4.4726e-04 - val_loss: 5.4839e-04\n",
      "Epoch 61/100\n",
      "20/20 [==============================] - 2s 99ms/step - loss: 4.3226e-04 - val_loss: 5.1076e-04\n",
      "Epoch 62/100\n",
      "20/20 [==============================] - 2s 102ms/step - loss: 4.1153e-04 - val_loss: 4.9199e-04\n",
      "Epoch 63/100\n",
      "20/20 [==============================] - 2s 103ms/step - loss: 4.0020e-04 - val_loss: 5.9820e-04\n",
      "Epoch 64/100\n",
      "20/20 [==============================] - 2s 102ms/step - loss: 4.7548e-04 - val_loss: 4.7819e-04\n",
      "Epoch 65/100\n",
      "20/20 [==============================] - 2s 106ms/step - loss: 4.0926e-04 - val_loss: 3.7337e-04\n",
      "Epoch 66/100\n",
      "20/20 [==============================] - 2s 99ms/step - loss: 4.7300e-04 - val_loss: 4.9981e-04\n",
      "Epoch 67/100\n",
      "20/20 [==============================] - 2s 103ms/step - loss: 4.5462e-04 - val_loss: 6.8255e-04\n",
      "Epoch 68/100\n",
      "20/20 [==============================] - 2s 113ms/step - loss: 4.9642e-04 - val_loss: 5.2775e-04\n",
      "Epoch 69/100\n",
      "20/20 [==============================] - 2s 106ms/step - loss: 3.8552e-04 - val_loss: 3.6770e-04\n",
      "Epoch 70/100\n",
      "20/20 [==============================] - 2s 106ms/step - loss: 3.8584e-04 - val_loss: 5.4906e-04\n",
      "Epoch 71/100\n",
      "20/20 [==============================] - 2s 108ms/step - loss: 3.8659e-04 - val_loss: 3.5802e-04\n",
      "Epoch 72/100\n",
      "20/20 [==============================] - 2s 103ms/step - loss: 3.4657e-04 - val_loss: 3.6007e-04\n",
      "Epoch 73/100\n",
      "20/20 [==============================] - 2s 112ms/step - loss: 3.5178e-04 - val_loss: 3.2494e-04\n",
      "Epoch 74/100\n",
      "20/20 [==============================] - 2s 107ms/step - loss: 4.6410e-04 - val_loss: 3.2496e-04\n",
      "Epoch 75/100\n",
      "20/20 [==============================] - 2s 105ms/step - loss: 4.0201e-04 - val_loss: 6.0592e-04\n",
      "Epoch 76/100\n",
      "20/20 [==============================] - 2s 108ms/step - loss: 3.7723e-04 - val_loss: 3.4356e-04\n",
      "Epoch 77/100\n"
     ]
    },
    {
     "name": "stdout",
     "output_type": "stream",
     "text": [
      "20/20 [==============================] - 2s 115ms/step - loss: 4.0459e-04 - val_loss: 4.0687e-04\n",
      "Epoch 78/100\n",
      "20/20 [==============================] - 2s 112ms/step - loss: 3.5306e-04 - val_loss: 3.2381e-04\n",
      "Epoch 79/100\n",
      "20/20 [==============================] - 2s 109ms/step - loss: 3.6705e-04 - val_loss: 3.9078e-04\n",
      "Epoch 80/100\n",
      "20/20 [==============================] - 2s 113ms/step - loss: 3.4255e-04 - val_loss: 3.4027e-04\n",
      "Epoch 81/100\n",
      "20/20 [==============================] - 2s 107ms/step - loss: 3.5255e-04 - val_loss: 4.5751e-04\n",
      "Epoch 82/100\n",
      "20/20 [==============================] - 2s 113ms/step - loss: 3.7933e-04 - val_loss: 2.8454e-04\n",
      "Epoch 83/100\n",
      "20/20 [==============================] - 2s 115ms/step - loss: 3.1261e-04 - val_loss: 3.1129e-04\n",
      "Epoch 84/100\n",
      "20/20 [==============================] - 2s 113ms/step - loss: 3.5024e-04 - val_loss: 3.9212e-04\n",
      "Epoch 85/100\n",
      "20/20 [==============================] - 2s 111ms/step - loss: 3.2180e-04 - val_loss: 3.7933e-04\n",
      "Epoch 86/100\n",
      "20/20 [==============================] - 2s 113ms/step - loss: 2.8942e-04 - val_loss: 3.6968e-04\n",
      "Epoch 87/100\n",
      "20/20 [==============================] - 2s 117ms/step - loss: 3.3023e-04 - val_loss: 3.0040e-04\n",
      "Epoch 88/100\n",
      "20/20 [==============================] - 2s 120ms/step - loss: 3.6275e-04 - val_loss: 2.7493e-04\n",
      "Epoch 89/100\n",
      "20/20 [==============================] - 2s 116ms/step - loss: 3.2813e-04 - val_loss: 3.2399e-04\n",
      "Epoch 90/100\n",
      "20/20 [==============================] - 2s 118ms/step - loss: 2.9941e-04 - val_loss: 3.2129e-04\n",
      "Epoch 91/100\n",
      "20/20 [==============================] - 2s 118ms/step - loss: 2.7455e-04 - val_loss: 2.7906e-04\n",
      "Epoch 92/100\n",
      "20/20 [==============================] - 2s 113ms/step - loss: 2.7406e-04 - val_loss: 2.7748e-04\n",
      "Epoch 93/100\n",
      "20/20 [==============================] - 2s 121ms/step - loss: 2.6368e-04 - val_loss: 2.5736e-04\n",
      "Epoch 94/100\n",
      "20/20 [==============================] - 2s 117ms/step - loss: 3.0851e-04 - val_loss: 2.4431e-04\n",
      "Epoch 95/100\n",
      "20/20 [==============================] - 2s 111ms/step - loss: 2.9503e-04 - val_loss: 2.5689e-04\n",
      "Epoch 96/100\n",
      "20/20 [==============================] - 2s 116ms/step - loss: 2.9144e-04 - val_loss: 2.9114e-04\n",
      "Epoch 97/100\n",
      "20/20 [==============================] - 2s 119ms/step - loss: 2.7780e-04 - val_loss: 3.8975e-04\n",
      "Epoch 98/100\n",
      "20/20 [==============================] - 2s 118ms/step - loss: 2.7464e-04 - val_loss: 3.3357e-04\n",
      "Epoch 99/100\n",
      "20/20 [==============================] - 2s 118ms/step - loss: 3.1704e-04 - val_loss: 3.4838e-04\n",
      "Epoch 100/100\n",
      "20/20 [==============================] - 2s 120ms/step - loss: 2.6766e-04 - val_loss: 3.7620e-04\n"
     ]
    },
    {
     "data": {
      "text/plain": [
       "<keras.src.callbacks.History at 0x2a1674f50>"
      ]
     },
     "execution_count": 22,
     "metadata": {},
     "output_type": "execute_result"
    }
   ],
   "source": [
    "model.fit(X_train,y_train,validation_data=(X_test,y_test),epochs=100,batch_size=64,verbose=1)"
   ]
  },
  {
   "cell_type": "code",
   "execution_count": 23,
   "id": "8c740aa6",
   "metadata": {},
   "outputs": [
    {
     "name": "stdout",
     "output_type": "stream",
     "text": [
      "39/39 [==============================] - 1s 12ms/step\n",
      "20/20 [==============================] - 0s 12ms/step\n"
     ]
    }
   ],
   "source": [
    "#prediction for X_train and X_test\n",
    "train_p=model.predict(X_train)\n",
    "test_p=model.predict(X_test)"
   ]
  },
  {
   "cell_type": "code",
   "execution_count": 24,
   "id": "9a40e3d9",
   "metadata": {},
   "outputs": [],
   "source": [
    "#since we scaled we have to reverse scale \n",
    "train_p=scaler.inverse_transform(train_p)\n",
    "test_p=scaler.inverse_transform(test_p)"
   ]
  },
  {
   "cell_type": "code",
   "execution_count": 25,
   "id": "7db849e0",
   "metadata": {},
   "outputs": [
    {
     "data": {
      "text/plain": [
       "117.80064959772986"
      ]
     },
     "execution_count": 25,
     "metadata": {},
     "output_type": "execute_result"
    }
   ],
   "source": [
    "#calculating mean squared error for test\n",
    "import math\n",
    "from sklearn.metrics import mean_squared_error\n",
    "math.sqrt(mean_squared_error(y_test,test_p))"
   ]
  },
  {
   "cell_type": "code",
   "execution_count": 26,
   "id": "e6712f3d",
   "metadata": {},
   "outputs": [
    {
     "data": {
      "image/png": "[encoded data removed]",
      "text/plain": [
       "<Figure size 640x480 with 1 Axes>"
      ]
     },
     "metadata": {},
     "output_type": "display_data"
    }
   ],
   "source": [
    " # shift train predictions for plotting\n",
    "look_back=100\n",
    "trainPredictPlot = np.empty_like(df1)\n",
    "trainPredictPlot[:, :] = np.nan\n",
    "trainPredictPlot[look_back:len(train_p)+look_back, :] = train_p\n",
    "# shift test predictions for plotting\n",
    "testPredictPlot = np.empty_like(df1)\n",
    "testPredictPlot[:, :] = np.nan\n",
    "testPredictPlot[len(train_p)+(look_back*2)+1:len(df1)-1, :] = test_p\n",
    "# plot baseline and predictions\n",
    "plt.plot(scaler.inverse_transform(df1))\n",
    "plt.plot(trainPredictPlot)\n",
    "plt.plot(testPredictPlot)\n",
    "plt.show()"
   ]
  },
  {
   "cell_type": "markdown",
   "id": "2973c0d3",
   "metadata": {},
   "source": [
    "In this graph the blue line is actual data,the orange is training data prediction and green is testing data prediction."
   ]
  }
 ],
 "metadata": {
  "kernelspec": {
   "display_name": "Python 3 (ipykernel)",
   "language": "python",
   "name": "python3"
  },
  "language_info": {
   "codemirror_mode": {
    "name": "ipython",
    "version": 3
   },
   "file_extension": ".py",
   "mimetype": "text/x-python",
   "name": "python",
   "nbconvert_exporter": "python",
   "pygments_lexer": "ipython3",
   "version": "3.11.4"
  }
 },
 "nbformat": 4,
 "nbformat_minor": 5
}
